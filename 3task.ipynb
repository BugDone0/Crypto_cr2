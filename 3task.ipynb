{
 "cells": [
  {
   "cell_type": "code",
   "execution_count": 51,
   "metadata": {},
   "outputs": [],
   "source": [
    "filename=\"output3.txt\""
   ]
  },
  {
   "cell_type": "code",
   "execution_count": 59,
   "metadata": {},
   "outputs": [],
   "source": [
    "from mod import find_mod_ring\n",
    "a = 300\n",
    "b = 162\n",
    "m = 1000"
   ]
  },
  {
   "cell_type": "code",
   "execution_count": 53,
   "metadata": {},
   "outputs": [],
   "source": [
    "# Функция для записи таблицы в файл\n",
    "def write_table(table):\n",
    "    col_width = [5, 5, 5]  \n",
    "    with open(filename, \"a\") as file:\n",
    "        header = \"|\" + \"|\".join(item.center(col_width[i]) for i, item in enumerate(table[0])) + \"|\"\n",
    "        file.write(header + \"\\n\")\n",
    "        file.write(\"-\" * len(header) + \"\\n\") \n",
    "        for row in table[1:]:\n",
    "            row_str = \"|\" + \"|\".join(str(item).center(col_width[i]) for i, item in enumerate(row)) + \"|\"\n",
    "            file.write(row_str + \"\\n\")"
   ]
  },
  {
   "cell_type": "code",
   "execution_count": 54,
   "metadata": {},
   "outputs": [],
   "source": [
    "def count_table(a, m):\n",
    "    table = []\n",
    "    table.append([\"r\", \"m\", \"a\"])  \n",
    "    table.append([\"-\", m, a])  \n",
    "    if m>a:\n",
    "        a = m\n",
    "    while a != 0:\n",
    "        r = int(m % a)\n",
    "        new_m = a\n",
    "        new_a = r\n",
    "\n",
    "        table.append([r, new_m, new_a])\n",
    "        m = new_m\n",
    "        a = new_a\n",
    "\n",
    "    \n",
    "    write_table(table)\n",
    "\n",
    "    with open(filename, \"a\") as file:\n",
    "        file.write(f\"\\nd = {table[-1][-2]}\\n\\n\\n\")\n",
    "\n",
    "    return(table[-1][-2])\n"
   ]
  },
  {
   "cell_type": "code",
   "execution_count": null,
   "metadata": {},
   "outputs": [],
   "source": [
    "def solve_task3():\n",
    "    with open(filename, \"a\") as file:    \n",
    "        file.write(f\"ax = b(mod m)\\n\")\n",
    "        file.write(f\"a = {a}, b = {b}, m = {m}\\n\\n\")\n",
    "        d = count_table(a, m)\n",
    "        file.write(f\"NOD(a,m) = NOD({a}, {m}) = {d}\\n\\n\")"
   ]
  },
  {
   "cell_type": "code",
   "execution_count": 58,
   "metadata": {},
   "outputs": [],
   "source": [
    "solve_task3()"
   ]
  }
 ],
 "metadata": {
  "kernelspec": {
   "display_name": "Python 3",
   "language": "python",
   "name": "python3"
  },
  "language_info": {
   "codemirror_mode": {
    "name": "ipython",
    "version": 3
   },
   "file_extension": ".py",
   "mimetype": "text/x-python",
   "name": "python",
   "nbconvert_exporter": "python",
   "pygments_lexer": "ipython3",
   "version": "3.9.2"
  }
 },
 "nbformat": 4,
 "nbformat_minor": 2
}
