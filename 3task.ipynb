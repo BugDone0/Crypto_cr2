{
 "cells": [
  {
   "cell_type": "code",
   "execution_count": 17,
   "metadata": {},
   "outputs": [],
   "source": [
    "from mod import find_mod_ring\n",
    "from counttable import count_table\n",
    "filename=\"output.txt\""
   ]
  },
  {
   "cell_type": "code",
   "execution_count": 8,
   "metadata": {},
   "outputs": [
    {
     "ename": "ValueError",
     "evalue": "I/O operation on closed file.",
     "output_type": "error",
     "traceback": [
      "\u001b[0;31m---------------------------------------------------------------------------\u001b[0m",
      "\u001b[0;31mValueError\u001b[0m                                Traceback (most recent call last)",
      "Cell \u001b[0;32mIn[8], line 22\u001b[0m\n\u001b[1;32m     19\u001b[0m         a\u001b[38;5;241m=\u001b[39m\u001b[38;5;241m3\u001b[39m\n\u001b[1;32m     21\u001b[0m         file\u001b[38;5;241m.\u001b[39mwrite(\u001b[38;5;124mf\u001b[39m\u001b[38;5;124m\"\u001b[39m\u001b[38;5;132;01m{\u001b[39;00m\u001b[38;5;28mint\u001b[39m(a\u001b[38;5;241m/\u001b[39md)\u001b[38;5;132;01m}\u001b[39;00m\u001b[38;5;124mx ≡ \u001b[39m\u001b[38;5;132;01m{\u001b[39;00m\u001b[38;5;28mint\u001b[39m(b\u001b[38;5;241m/\u001b[39md)\u001b[38;5;132;01m}\u001b[39;00m\u001b[38;5;124m mod \u001b[39m\u001b[38;5;132;01m{\u001b[39;00m\u001b[38;5;28mint\u001b[39m(m\u001b[38;5;241m/\u001b[39md)\u001b[38;5;132;01m}\u001b[39;00m\u001b[38;5;124m\"\u001b[39m)\n\u001b[0;32m---> 22\u001b[0m \u001b[43msolve_task3\u001b[49m\u001b[43m(\u001b[49m\u001b[43m)\u001b[49m\n",
      "Cell \u001b[0;32mIn[8], line 17\u001b[0m, in \u001b[0;36msolve_task3\u001b[0;34m()\u001b[0m\n\u001b[1;32m     15\u001b[0m     a \u001b[38;5;241m=\u001b[39m\u001b[38;5;241m1\u001b[39m\n\u001b[1;32m     16\u001b[0m \u001b[38;5;28;01melif\u001b[39;00m d \u001b[38;5;241m>\u001b[39m \u001b[38;5;241m1\u001b[39m \u001b[38;5;129;01mand\u001b[39;00m d \u001b[38;5;241m%\u001b[39m b \u001b[38;5;241m!=\u001b[39m \u001b[38;5;241m0\u001b[39m:\n\u001b[0;32m---> 17\u001b[0m     \u001b[43mfile\u001b[49m\u001b[38;5;241;43m.\u001b[39;49m\u001b[43mwrite\u001b[49m\u001b[43m(\u001b[49m\u001b[38;5;124;43mf\u001b[39;49m\u001b[38;5;124;43m\"\u001b[39;49m\u001b[38;5;130;43;01m\\n\u001b[39;49;00m\u001b[38;5;124;43m\"\u001b[39;49m\u001b[43m)\u001b[49m\n\u001b[1;32m     18\u001b[0m \u001b[38;5;28;01melse\u001b[39;00m:\n\u001b[1;32m     19\u001b[0m     a\u001b[38;5;241m=\u001b[39m\u001b[38;5;241m3\u001b[39m\n",
      "\u001b[0;31mValueError\u001b[0m: I/O operation on closed file."
     ]
    }
   ],
   "source": [
    "def solve_task3():\n",
    "    from mod import find_mod_ring\n",
    "    a = 324\n",
    "    b = 162\n",
    "    m = 1074\n",
    "    d = count_table(a, m, \"rma\")\n",
    "    with open(filename, \"a\") as file:    \n",
    "        file.write(f\"Решение 3 задачи \\n\\n\")\n",
    "        file.write(f\"ax = b(mod m)\\n\")\n",
    "        file.write(f\"a = {a}, b = {b}, m = {m}\\n\\n\")\n",
    "        file.write(f\"NOD(a,m) = NOD({a}, {m}) = {d} = d\\n\\n\")\n",
    "        \n",
    "    d = count_table(a, m, \"rma\")    \n",
    "    if d == 1:\n",
    "        a =1\n",
    "    elif d > 1 and d % b != 0:\n",
    "        file.write(f\"\\n\")\n",
    "    else:\n",
    "        a=3\n",
    "\n",
    "        file.write(f\"{int(a/d)}x ≡ {int(b/d)} mod {int(m/d)}\")\n",
    "solve_task3()"
   ]
  },
  {
   "cell_type": "code",
   "execution_count": 31,
   "metadata": {},
   "outputs": [
    {
     "ename": "TypeError",
     "evalue": "count_table() got an unexpected keyword argument 'mode'",
     "output_type": "error",
     "traceback": [
      "\u001b[0;31m---------------------------------------------------------------------------\u001b[0m",
      "\u001b[0;31mTypeError\u001b[0m                                 Traceback (most recent call last)",
      "Cell \u001b[0;32mIn[31], line 9\u001b[0m\n\u001b[1;32m      7\u001b[0m     file\u001b[38;5;241m.\u001b[39mwrite(\u001b[38;5;124mf\u001b[39m\u001b[38;5;124m\"\u001b[39m\u001b[38;5;124max = b(mod m)\u001b[39m\u001b[38;5;130;01m\\n\u001b[39;00m\u001b[38;5;124m\"\u001b[39m)\n\u001b[1;32m      8\u001b[0m     file\u001b[38;5;241m.\u001b[39mwrite(\u001b[38;5;124mf\u001b[39m\u001b[38;5;124m\"\u001b[39m\u001b[38;5;124ma = \u001b[39m\u001b[38;5;132;01m{\u001b[39;00ma\u001b[38;5;132;01m}\u001b[39;00m\u001b[38;5;124m, b = \u001b[39m\u001b[38;5;132;01m{\u001b[39;00mb\u001b[38;5;132;01m}\u001b[39;00m\u001b[38;5;124m, m = \u001b[39m\u001b[38;5;132;01m{\u001b[39;00mm\u001b[38;5;132;01m}\u001b[39;00m\u001b[38;5;130;01m\\n\u001b[39;00m\u001b[38;5;130;01m\\n\u001b[39;00m\u001b[38;5;124m\"\u001b[39m)\n\u001b[0;32m----> 9\u001b[0m d \u001b[38;5;241m=\u001b[39m \u001b[43mcount_table\u001b[49m\u001b[43m(\u001b[49m\u001b[43ma\u001b[49m\u001b[43m,\u001b[49m\u001b[43m \u001b[49m\u001b[43mm\u001b[49m\u001b[43m,\u001b[49m\u001b[43m \u001b[49m\u001b[43mmode\u001b[49m\u001b[43m \u001b[49m\u001b[38;5;241;43m=\u001b[39;49m\u001b[38;5;124;43m\"\u001b[39;49m\u001b[38;5;124;43mrma\u001b[39;49m\u001b[38;5;124;43m\"\u001b[39;49m\u001b[43m)\u001b[49m\n\u001b[1;32m     10\u001b[0m \u001b[38;5;28;01mwith\u001b[39;00m \u001b[38;5;28mopen\u001b[39m(filename, \u001b[38;5;124m\"\u001b[39m\u001b[38;5;124ma\u001b[39m\u001b[38;5;124m\"\u001b[39m) \u001b[38;5;28;01mas\u001b[39;00m file:    \n\u001b[1;32m     11\u001b[0m     file\u001b[38;5;241m.\u001b[39mwrite(\u001b[38;5;124mf\u001b[39m\u001b[38;5;124m\"\u001b[39m\u001b[38;5;130;01m\\n\u001b[39;00m\u001b[38;5;124mNOD(a,m) = NOD(\u001b[39m\u001b[38;5;132;01m{\u001b[39;00ma\u001b[38;5;132;01m}\u001b[39;00m\u001b[38;5;124m, \u001b[39m\u001b[38;5;132;01m{\u001b[39;00mm\u001b[38;5;132;01m}\u001b[39;00m\u001b[38;5;124m) = \u001b[39m\u001b[38;5;132;01m{\u001b[39;00md\u001b[38;5;132;01m}\u001b[39;00m\u001b[38;5;124m = d\u001b[39m\u001b[38;5;130;01m\\n\u001b[39;00m\u001b[38;5;130;01m\\n\u001b[39;00m\u001b[38;5;124m\"\u001b[39m)\n",
      "\u001b[0;31mTypeError\u001b[0m: count_table() got an unexpected keyword argument 'mode'"
     ]
    }
   ],
   "source": [
    "a = 324\n",
    "b = 162\n",
    "m = 1074\n",
    "\n",
    "with open(filename, \"a\") as file:    \n",
    "    file.write(f\"Решение 3 задачи \\n\\n\")\n",
    "    file.write(f\"ax = b(mod m)\\n\")\n",
    "    file.write(f\"a = {a}, b = {b}, m = {m}\\n\\n\")\n",
    "d = count_table(a, m, mode =\"rma\")\n",
    "with open(filename, \"a\") as file:    \n",
    "    file.write(f\"\\nNOD(a,m) = NOD({a}, {m}) = {d} = d\\n\\n\")\n",
    "           \n",
    "\n",
    "if d == 1:\n",
    "    raise ValueError(\"Вариант решения не рассмотрен на лекции\")\n",
    "elif d > 1 and b % d != 0:\n",
    "    raise ValueError(\"Вариант решения не рассмотрен на лекции\")\n",
    "else:\n",
    "    a_ = a/d\n",
    "    b_ = b/d\n",
    "    m_ = m/d\n",
    "    a_1 = count_table(a_, m_, mode=\"qry\")  \n",
    "    with open(filename, \"a\") as file:   \n",
    "        file.write(f\"\\n{int(a/d)}x ≡ {int(b/d)} mod {int(m/d)}\\n\")\n",
    "        file.write(f\"¯a = {int(a/d)}, ¯b = {int(b/d)}, ¯m = {int(m/d)}\\n\")\n",
    "        file.write(f\"{int(a/d)}^-1 mod {int(m/d)} = {a_1}\\n\")\n"
   ]
  },
  {
   "cell_type": "code",
   "execution_count": 30,
   "metadata": {},
   "outputs": [
    {
     "ename": "NameError",
     "evalue": "name 'a_1' is not defined",
     "output_type": "error",
     "traceback": [
      "\u001b[0;31m---------------------------------------------------------------------------\u001b[0m",
      "\u001b[0;31mNameError\u001b[0m                                 Traceback (most recent call last)",
      "Cell \u001b[0;32mIn[30], line 3\u001b[0m\n\u001b[1;32m      1\u001b[0m \u001b[38;5;66;03m#x = (a_1 * b_) mod m_\u001b[39;00m\n\u001b[1;32m      2\u001b[0m \u001b[38;5;28;01mwith\u001b[39;00m \u001b[38;5;28mopen\u001b[39m(filename, \u001b[38;5;124m\"\u001b[39m\u001b[38;5;124ma\u001b[39m\u001b[38;5;124m\"\u001b[39m) \u001b[38;5;28;01mas\u001b[39;00m file:  \n\u001b[0;32m----> 3\u001b[0m     file\u001b[38;5;241m.\u001b[39mwrite(\u001b[38;5;124mf\u001b[39m\u001b[38;5;124m\"\u001b[39m\u001b[38;5;124mx = (\u001b[39m\u001b[38;5;132;01m{\u001b[39;00m\u001b[43ma_1\u001b[49m\u001b[38;5;132;01m}\u001b[39;00m\u001b[38;5;124m * \u001b[39m\u001b[38;5;132;01m{\u001b[39;00mb_\u001b[38;5;132;01m}\u001b[39;00m\u001b[38;5;124m) mod \u001b[39m\u001b[38;5;132;01m{\u001b[39;00mm\u001b[38;5;132;01m}\u001b[39;00m\u001b[38;5;124m = \u001b[39m\u001b[38;5;132;01m{\u001b[39;00mfind_mod_ring(a_1\u001b[38;5;250m \u001b[39m\u001b[38;5;241m*\u001b[39m\u001b[38;5;250m \u001b[39mb_,\u001b[38;5;250m \u001b[39mm_)\u001b[38;5;132;01m}\u001b[39;00m\u001b[38;5;124m\"\u001b[39m)\n\u001b[1;32m      4\u001b[0m \u001b[38;5;66;03m#x1 = (a_1 * b_ + m_ * k) mod m_\u001b[39;00m\n\u001b[1;32m      5\u001b[0m \u001b[38;5;28;01mwith\u001b[39;00m \u001b[38;5;28mopen\u001b[39m(filename, \u001b[38;5;124m\"\u001b[39m\u001b[38;5;124ma\u001b[39m\u001b[38;5;124m\"\u001b[39m) \u001b[38;5;28;01mas\u001b[39;00m file:   \n",
      "\u001b[0;31mNameError\u001b[0m: name 'a_1' is not defined"
     ]
    }
   ],
   "source": [
    "#x = (a_1 * b_) mod m_\n",
    "with open(filename, \"a\") as file:  \n",
    "    file.write(f\"x = ({a_1} * {b_}) mod {m} = {find_mod_ring(a_1 * b_, m_)}\")\n",
    "#x1 = (a_1 * b_ + m_ * k) mod m_\n",
    "with open(filename, \"a\") as file:   \n",
    "    for k in d :\n",
    "        file.write(f\"x{k} = ({x} + {m_} * {k} mod {m}) = {find_mod_ring(x + m_ * k, m)}\")\n",
    "        #x1 = (x + m_ * k) mod m"
   ]
  }
 ],
 "metadata": {
  "kernelspec": {
   "display_name": "Python 3",
   "language": "python",
   "name": "python3"
  },
  "language_info": {
   "codemirror_mode": {
    "name": "ipython",
    "version": 3
   },
   "file_extension": ".py",
   "mimetype": "text/x-python",
   "name": "python",
   "nbconvert_exporter": "python",
   "pygments_lexer": "ipython3",
   "version": "3.13.0"
  }
 },
 "nbformat": 4,
 "nbformat_minor": 2
}
