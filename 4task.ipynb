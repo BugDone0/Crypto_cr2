{
 "cells": [
  {
   "cell_type": "code",
   "execution_count": 1,
   "metadata": {},
   "outputs": [],
   "source": [
    "from mod import find_mod_ring\n",
    "from counttable import count_table\n",
    "from sep import sep\n",
    "filename=\"output.txt\"\n"
   ]
  },
  {
   "cell_type": "code",
   "execution_count": 2,
   "metadata": {},
   "outputs": [],
   "source": [
    "#def solve_task4(a ,p ):\n",
    "a= 176\n",
    "p= 563\n",
    "\n",
    "sep(4)\n",
    "\n",
    "with open(filename, \"a\") as file:    \n",
    "    file.write(f\"a = {a}, b = {p}\\n\")"
   ]
  },
  {
   "cell_type": "code",
   "execution_count": null,
   "metadata": {},
   "outputs": [],
   "source": [
    "with open(filename, \"a\") as file:    \n",
    "    file.write(f\"ШАГ 1\\n\")"
   ]
  },
  {
   "cell_type": "code",
   "execution_count": null,
   "metadata": {},
   "outputs": [],
   "source": [
    "with open(filename, \"a\") as file:    \n",
    "    file.write(f\"ШАГ 2\\n\")"
   ]
  },
  {
   "cell_type": "code",
   "execution_count": null,
   "metadata": {},
   "outputs": [],
   "source": [
    "with open(filename, \"a\") as file:    \n",
    "    file.write(f\"ШАГ 3\\n\")"
   ]
  },
  {
   "cell_type": "code",
   "execution_count": 3,
   "metadata": {},
   "outputs": [],
   "source": [
    "with open(filename, \"a\") as file:    \n",
    "    file.write(f\"\\nШАГ 4\\n\")\n",
    "a_1 = count_table(a, p, avel=\"a\", bvel=\"p\", mode=\"qry\")\n",
    "with open(filename, \"a\") as file:    \n",
    "    file.write(f\"\\n {a}^(-1) mod {p} = {a_1}\\n\")\n",
    "\n"
   ]
  }
 ],
 "metadata": {
  "kernelspec": {
   "display_name": "Python 3",
   "language": "python",
   "name": "python3"
  },
  "language_info": {
   "codemirror_mode": {
    "name": "ipython",
    "version": 3
   },
   "file_extension": ".py",
   "mimetype": "text/x-python",
   "name": "python",
   "nbconvert_exporter": "python",
   "pygments_lexer": "ipython3",
   "version": "3.13.0"
  }
 },
 "nbformat": 4,
 "nbformat_minor": 2
}
