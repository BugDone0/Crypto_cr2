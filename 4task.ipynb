{
 "cells": [
  {
   "cell_type": "code",
   "execution_count": 1,
   "metadata": {},
   "outputs": [],
   "source": [
    "from mod import find_mod_ring\n",
    "from counttable import count_table\n",
    "from sep import sep\n",
    "filename=\"output.txt\"\n"
   ]
  },
  {
   "cell_type": "code",
   "execution_count": 37,
   "metadata": {},
   "outputs": [],
   "source": [
    "#def solve_task4(a ,p ):\n",
    "a= 558\n",
    "p= 937\n",
    "\n",
    "sep(4)\n",
    "\n",
    "with open(filename, \"a\") as file:    \n",
    "    file.write(f\"a = {a}, b = {p}\\n\")"
   ]
  },
  {
   "cell_type": "code",
   "execution_count": null,
   "metadata": {},
   "outputs": [],
   "source": [
    "with open(filename, \"a\") as file:    \n",
    "    file.write(f\"ШАГ 1\\n\")"
   ]
  },
  {
   "cell_type": "code",
   "execution_count": null,
   "metadata": {},
   "outputs": [],
   "source": [
    "with open(filename, \"a\") as file:    \n",
    "    file.write(f\"ШАГ 2\\n\")"
   ]
  },
  {
   "cell_type": "code",
   "execution_count": null,
   "metadata": {},
   "outputs": [],
   "source": [
    "with open(filename, \"a\") as file:    \n",
    "    file.write(f\"ШАГ 3\\n\")"
   ]
  },
  {
   "cell_type": "code",
   "execution_count": 3,
   "metadata": {},
   "outputs": [],
   "source": [
    "with open(filename, \"a\") as file:    \n",
    "    file.write(f\"\\nШАГ 4\\n\")\n",
    "a_1 = count_table(a, p, avel=\"a\", bvel=\"p\", mode=\"qry\")\n",
    "with open(filename, \"a\") as file:    \n",
    "    file.write(f\"\\n {a}^(-1) mod {p} = {a_1}\\n\")\n",
    "\n"
   ]
  },
  {
   "cell_type": "code",
   "execution_count": 14,
   "metadata": {},
   "outputs": [
    {
     "name": "stdout",
     "output_type": "stream",
     "text": [
      "\n",
      "LS: -1\n"
     ]
    }
   ],
   "source": [
    "def is_prime(p):\n",
    "    if p % 2 == 0:\n",
    "        return False\n",
    "    for i in range(3, int(p**0.5) + 1, 2):\n",
    "        if p % i == 0:\n",
    "            return False\n",
    "    return True\n",
    "\n",
    "def is_residue(a, p):\n",
    "    for x in range(1, p):\n",
    "        if (x * x) % p == a:\n",
    "            return True\n",
    "    return False\n",
    "\n",
    "def legendre_symbol(a, p):\n",
    "    a %= p\n",
    "    if a == 0:\n",
    "        return 0\n",
    "    if p == 3:\n",
    "        ls_3 = [0, 1, -1]  # legendre_symbol(a, 3)\n",
    "        return ls_3[a]\n",
    "    return 1 if is_residue(a, p) else -1\n",
    "\n",
    "\n",
    "a = 5\n",
    "while True:\n",
    "    p = 937\n",
    "    if is_prime(p):\n",
    "        break\n",
    "print(\"\\nLS:\", legendre_symbol(a, p))\n"
   ]
  },
  {
   "cell_type": "code",
   "execution_count": 4,
   "metadata": {},
   "outputs": [],
   "source": [
    "def primfacs(n):\n",
    "   i = 2\n",
    "   primfac = []\n",
    "   while i * i <= n:\n",
    "       while n % i == 0:\n",
    "           primfac.append(i)\n",
    "           n = n / i\n",
    "       i = i + 1\n",
    "   if n > 1:\n",
    "       primfac.append(n)\n",
    "   return primfac"
   ]
  },
  {
   "cell_type": "code",
   "execution_count": 9,
   "metadata": {},
   "outputs": [
    {
     "name": "stdout",
     "output_type": "stream",
     "text": [
      "[2, 2, 2, 3, 3, 13.0]\n"
     ]
    }
   ],
   "source": [
    "print(primfacs(p -1))"
   ]
  },
  {
   "cell_type": "code",
   "execution_count": 42,
   "metadata": {},
   "outputs": [],
   "source": [
    "s = 3 \n",
    "t=117 \n",
    "b = 5\n",
    "find_mod_ring(b**t,p)\n",
    "r= 526\n",
    "\n"
   ]
  },
  {
   "cell_type": "code",
   "execution_count": 41,
   "metadata": {},
   "outputs": [
    {
     "data": {
      "text/plain": [
       "526"
      ]
     },
     "execution_count": 41,
     "metadata": {},
     "output_type": "execute_result"
    }
   ],
   "source": [
    "find_mod_ring(a**59,p)"
   ]
  },
  {
   "cell_type": "code",
   "execution_count": null,
   "metadata": {},
   "outputs": [
    {
     "data": {
      "text/plain": [
       "59.0"
      ]
     },
     "execution_count": 35,
     "metadata": {},
     "output_type": "execute_result"
    }
   ],
   "source": [
    "a**\n"
   ]
  },
  {
   "cell_type": "markdown",
   "metadata": {},
   "source": [
    "s = 3 t=117 b = 5\n",
    "C0 = b^t mod p\n",
    "C0 = 67\n",
    "r= 526\n",
    "цикл i от 1 до 2\n",
    "    di= (r^2 * a_1)^2^(s-i-1)=-1\n",
    "r= CO * r mod p = 573\n",
    "C0 = C0^2 mod p = 741\n",
    "r= 132\n",
    "\n"
   ]
  },
  {
   "cell_type": "code",
   "execution_count": 57,
   "metadata": {},
   "outputs": [
    {
     "name": "stdout",
     "output_type": "stream",
     "text": [
      "24624164\n",
      "1\n",
      "24624164\n"
     ]
    }
   ],
   "source": [
    "i=2\n",
    "q1= (r**2) * 89\n",
    "q3=2**(s-i-1)\n",
    "q4=q1**q3\n",
    "\n",
    "\n",
    "print(q1)\n",
    "\n",
    "print(q3)\n",
    "print(q4)\n"
   ]
  },
  {
   "cell_type": "code",
   "execution_count": 63,
   "metadata": {},
   "outputs": [
    {
     "data": {
      "text/plain": [
       "558"
      ]
     },
     "execution_count": 63,
     "metadata": {},
     "output_type": "execute_result"
    }
   ],
   "source": [
    "i=1\n",
    "find_mod_ring(132**2,p)"
   ]
  }
 ],
 "metadata": {
  "kernelspec": {
   "display_name": "Python 3",
   "language": "python",
   "name": "python3"
  },
  "language_info": {
   "codemirror_mode": {
    "name": "ipython",
    "version": 3
   },
   "file_extension": ".py",
   "mimetype": "text/x-python",
   "name": "python",
   "nbconvert_exporter": "python",
   "pygments_lexer": "ipython3",
   "version": "3.13.0"
  }
 },
 "nbformat": 4,
 "nbformat_minor": 2
}
